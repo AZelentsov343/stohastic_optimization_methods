{
 "cells": [
  {
   "cell_type": "markdown",
   "metadata": {},
   "source": [
    "# SGD"
   ]
  },
  {
   "cell_type": "code",
   "execution_count": 2,
   "metadata": {},
   "outputs": [],
   "source": [
    "%matplotlib inline\n",
    "import numpy as np\n",
    "import pandas as pd\n",
    "import matplotlib.pyplot as plt"
   ]
  },
  {
   "cell_type": "code",
   "execution_count": 57,
   "metadata": {},
   "outputs": [],
   "source": [
    "class GD:\n",
    "    def __init__(self, func, func_grad, search_min, search_max, sol_size, learning_rate):\n",
    "        self.learning_rate = learning_rate\n",
    "        self.target_func = func\n",
    "        self.target_func_grad = func_grad\n",
    "        self.X = np.random.rand(*sol_size) * (search_max - search_min) + search_min\n",
    "        \n",
    "    def step(self):\n",
    "        self.X -= self.learning_rate * self.target_func_grad(self.X)\n",
    "        return self.target_func(self.X)\n",
    "    \n",
    "    def optimize(self, max_steps, min_func=None, closeness=10**-3, early_stopping=False):\n",
    "        losses = []\n",
    "        try:\n",
    "            for _ in range(max_steps):\n",
    "                loss = self.step()\n",
    "                losses.append(loss)\n",
    "                if early_stopping and min_func is not None and np.abs(loss - min_func) <= closeness:\n",
    "                    break\n",
    "        except KeyboardInterrupt:\n",
    "            plt.plot(losses)\n",
    "            plt.show()\n",
    "            print(len(losses))\n",
    "            return self.X\n",
    "        plt.plot(losses)\n",
    "        plt.show()\n",
    "        print(len(losses))\n",
    "        return self.X"
   ]
  },
  {
   "cell_type": "markdown",
   "metadata": {},
   "source": [
    "# Случайный поиск с возвратом"
   ]
  },
  {
   "cell_type": "code",
   "execution_count": 270,
   "metadata": {},
   "outputs": [],
   "source": [
    "class RandomSearch:\n",
    "    def __init__(self, func, search_min, search_max, sol_size):\n",
    "        self.f = func\n",
    "        self.min = search_min\n",
    "        self.size = sol_size\n",
    "        self.zone = search_max - self.min\n",
    "        self.X = np.random.rand(*self.size) * self.zone + self.min\n",
    "        \n",
    "    def step(self):\n",
    "        X_new = np.random.rand(*self.size) * self.zone + self.min\n",
    "        if self.f(X_new) <= self.f(self.X):\n",
    "            self.X = X_new\n",
    "        return self.f(self.X)\n",
    "            \n",
    "    def optimize(self, max_steps, min_func=None, closeness=10**-3, early_stopping=False):\n",
    "        losses = []\n",
    "        try:\n",
    "            for _ in range(max_steps):\n",
    "                loss = self.step()\n",
    "                losses.append(loss)\n",
    "                if early_stopping and min_func is not None and np.abs(loss - min_func) <= closeness:\n",
    "                    break\n",
    "        except KeyboardInterrupt:\n",
    "            plt.plot(losses)\n",
    "            plt.show()\n",
    "            print(len(losses))\n",
    "            return self.X\n",
    "        plt.plot(losses)\n",
    "        plt.show()\n",
    "        print(len(losses))\n",
    "        return self.X"
   ]
  },
  {
   "cell_type": "markdown",
   "metadata": {},
   "source": [
    "# Генетический алгоритм"
   ]
  },
  {
   "cell_type": "code",
   "execution_count": 59,
   "metadata": {},
   "outputs": [],
   "source": [
    "class GeneticSearch:\n",
    "    def __init__(self, func, search_min, search_max, sol_size, population, elite, p_alive, p_mut):\n",
    "        self.f = func\n",
    "        self.min = search_min\n",
    "        self.size = sol_size\n",
    "        self.zone = search_max - self.min\n",
    "        #Инициализация популяции\n",
    "        self.population = np.random.rand(population, *sol_size) * self.zone + self.min\n",
    "        self.population_size = population\n",
    "        #Инициализация структурных параметров \n",
    "        self.elite_count = int(np.rint(elite * population))\n",
    "        self.p_alive = p_alive\n",
    "        self.p_mut = p_mut\n",
    "        #Инициализация лучшего значения\n",
    "        self.best = 0\n",
    "        \n",
    "    def crossover(self, sample1, sample2):\n",
    "        if self.size == (1,):\n",
    "            weight = np.random.rand()\n",
    "            return weight * sample1 + (1 - weight) * sample2\n",
    "        else:\n",
    "            mask = np.random.randint(2, size=self.size)\n",
    "            result = np.zeros(self.size)\n",
    "            result[np.where(mask == 1)] = sample1[np.where(mask == 1)]\n",
    "            result[np.where(mask == 0)] = sample2[np.where(mask == 0)]\n",
    "            return result\n",
    "        \n",
    "    def mutate(self, sample):\n",
    "        mask = np.random.randint(2, size=self.size)\n",
    "        s = np.max(np.abs(sample))\n",
    "        mut = 2 * s * np.random.rand(*self.size) + s\n",
    "        sample[np.where(mask == 1)] += mut[np.where(mask == 1)]\n",
    "        return sample\n",
    "            \n",
    "    def step(self):\n",
    "        # Естественный отбор\n",
    "        results = np.array(list(map(self.f, self.population)))\n",
    "        \n",
    "        self.population = self.population[np.argsort(results)]\n",
    "        \n",
    "        self.best = self.population[0]\n",
    "        \n",
    "        weak_population = self.population[self.elite_count:]\n",
    "        self.population = self.population[:self.elite_count:]\n",
    "        \n",
    "        for el in weak_population:\n",
    "            rnd = np.random.rand()\n",
    "            if rnd < self.p_alive:\n",
    "                self.population = np.vstack((self.population, el))\n",
    "        \n",
    "        #Скрещивание\n",
    "        while self.population.shape[0] < self.population_size:\n",
    "            parent1 = self.population[np.random.randint(self.elite_count)]\n",
    "            parent2 = self.population[np.random.randint(self.elite_count)]\n",
    "            child = self.crossover(parent1, parent2)\n",
    "            self.population = np.vstack((self.population, child))\n",
    "        \n",
    "        #Мутация\n",
    "        for i in range(self.population.shape[0]):\n",
    "            rnd = np.random.rand()\n",
    "            if rnd < self.p_mut:\n",
    "                self.population[i] = self.mutate(self.population[i])\n",
    "                \n",
    "        return self.f(self.best)\n",
    "    \n",
    "    def optimize(self, max_steps, min_func=None, closeness=10**-3, patience=10000, early_stopping=False):\n",
    "        losses = []\n",
    "        prev_loss = 0.0\n",
    "        steps_no_change = 0\n",
    "        try:\n",
    "            for _ in range(max_steps):\n",
    "                loss = self.step()\n",
    "                losses.append(loss)\n",
    "                if (loss == prev_loss):\n",
    "                    steps_no_change += 1\n",
    "                else:\n",
    "                    steps_no_change = 0\n",
    "                if early_stopping and steps_no_change >= patience:\n",
    "                    break\n",
    "                if early_stopping and min_func is not None and np.abs(loss - min_func) <= closeness:\n",
    "                    break\n",
    "                prev_loss = loss\n",
    "        except KeyboardInterrupt:\n",
    "            plt.plot(losses)\n",
    "            plt.show()\n",
    "            print(len(losses))\n",
    "            return self.best\n",
    "        plt.plot(losses)\n",
    "        plt.show()\n",
    "        print(len(losses))\n",
    "        return self.best"
   ]
  },
  {
   "cell_type": "markdown",
   "metadata": {},
   "source": [
    "# Алгоритм роя частиц."
   ]
  },
  {
   "cell_type": "code",
   "execution_count": 60,
   "metadata": {},
   "outputs": [],
   "source": [
    "class BirdsFlock:\n",
    "    def __init__(self, func, search_min, search_max, sol_size, birds_count, min_speed, max_speed, w, a1, a2):\n",
    "        self.f = func\n",
    "        self.size = sol_size\n",
    "        self.min = search_min\n",
    "        self.zone = search_max - self.min\n",
    "        #Инициализация позиций птиц\n",
    "        self.birds_pos = np.random.rand(birds_count, *sol_size) * self.zone + self.min\n",
    "        self.best_for_bird = self.birds_pos\n",
    "        #Инициализация скоростей птиц\n",
    "        self.min_speed = min_speed\n",
    "        self.max_speed = max_speed\n",
    "        self.speed_for_bird = np.random.rand(birds_count, *sol_size) * (max_speed - min_speed) + self.min_speed\n",
    "        mask = np.random.randint(2, size=(birds_count, *sol_size))\n",
    "        self.speed_for_bird[np.where(mask == 1)] = -self.speed_for_bird[np.where(mask == 1)]\n",
    "        #Инициализация параметров алгоритма\n",
    "        self.w = w\n",
    "        self.a1 = a1\n",
    "        self.a2 = a2\n",
    "        #Инициализация лучшего значения\n",
    "        results = np.array(list(map(self.f, self.birds_pos)))\n",
    "        self.best = self.birds_pos[np.argmin(results)]\n",
    "        self.best_loss = self.f(self.best)\n",
    "        \n",
    "    def step(self):\n",
    "        # Обновляем скорости\n",
    "        for i in range(self.speed_for_bird.shape[0]):\n",
    "            rnd1 = np.random.rand()\n",
    "            rnd2 = np.random.rand()\n",
    "            self.speed_for_bird[i] = (self.w * self.speed_for_bird[i] +\n",
    "                                      rnd1 * self.a1 * (self.best_for_bird[i] - self.birds_pos[i]) +\n",
    "                                      rnd2 * self.a2 * (self.best -             self.birds_pos[i]))\n",
    "        #Корректируем скорости, чтобы они попадали в интервалы\n",
    "        self.speed_for_bird[np.where(abs(self.speed_for_bird) > self.max_speed)] =\\\n",
    "        np.sign(self.speed_for_bird[np.where(abs(self.speed_for_bird) > self.max_speed)]) * self.max_speed\n",
    "        \n",
    "        self.speed_for_bird[np.where(abs(self.speed_for_bird) < self.min_speed)] =\\\n",
    "        np.sign(self.speed_for_bird[np.where(abs(self.speed_for_bird) < self.min_speed)]) * self.min_speed\n",
    "        \n",
    "        #Птицы летят\n",
    "        self.birds_pos += self.speed_for_bird\n",
    "        \n",
    "        #Считаем, что птица не может \"вылететь\", так как ищем ответ на всей прямой\n",
    "        #Пересчитываем лучшую позицию для каждой птицы и лучшую позицию вообще\n",
    "        for i in range(self.birds_pos.shape[0]):\n",
    "            tmp = self.f(self.birds_pos[i])\n",
    "            if tmp <= self.f(self.best_for_bird[i]):\n",
    "                self.best_for_bird[i] = self.birds_pos[i]\n",
    "                if tmp <= self.best_loss:\n",
    "                    self.best = self.birds_pos[i]\n",
    "                    self.best_loss = tmp\n",
    "        \n",
    "        return self.best_loss\n",
    "    \n",
    "    def optimize(self, max_steps, min_func=None, closeness=10**-3, patience=10000, early_stopping=False):\n",
    "        losses = []\n",
    "        prev_loss = 0.0\n",
    "        steps_no_change = 0\n",
    "        try:\n",
    "            for _ in range(max_steps):\n",
    "                loss = self.step()\n",
    "                losses.append(loss)\n",
    "                if (loss == prev_loss):\n",
    "                    steps_no_change += 1\n",
    "                else:\n",
    "                    steps_no_change = 0\n",
    "                if early_stopping and steps_no_change >= patience:\n",
    "                    break\n",
    "                if early_stopping and min_func is not None and np.abs(loss - min_func) <= closeness:\n",
    "                    break\n",
    "                prev_loss = loss\n",
    "        except KeyboardInterrupt:\n",
    "            plt.plot(losses)\n",
    "            plt.show()\n",
    "            print(len(losses))\n",
    "            return self.best\n",
    "        plt.plot(losses)\n",
    "        plt.show()\n",
    "        print(len(losses))\n",
    "        return self.best"
   ]
  },
  {
   "cell_type": "markdown",
   "metadata": {},
   "source": [
    "# Алгоритм роя пчёл"
   ]
  },
  {
   "cell_type": "code",
   "execution_count": 61,
   "metadata": {},
   "outputs": [],
   "source": [
    "class Hive:\n",
    "    def __init__(self, func, search_min, search_max, sol_size,\n",
    "                 scout, best_scout, good_scout, workers_best, workers_good, rad):\n",
    "        self.f = func\n",
    "        self.min = search_min\n",
    "        self.zone = search_max - self.min\n",
    "        self.size = sol_size\n",
    "        #Инициализация структурных параметров\n",
    "        self.scout = scout\n",
    "        self.best_scout = best_scout\n",
    "        self.good_scout = good_scout\n",
    "        self.workers_best = workers_best\n",
    "        self.workers_good = workers_good\n",
    "        self.rad = rad\n",
    "        #Инициализация лучшего значения\n",
    "        self.best = 0\n",
    "        self.best_loss = np.inf\n",
    "    \n",
    "    def step(self):\n",
    "        #Посылаем разведчиков\n",
    "        scouts = np.random.rand(self.scout, *self.size) * self.zone + self.min\n",
    "        #Получаем результаты\n",
    "        result = np.array(list(map(self.f, scouts)))\n",
    "        scouts = scouts[np.argsort(result)]\n",
    "        tmp = self.f(scouts[0])\n",
    "        if tmp <= self.best_loss:\n",
    "            self.best_loss = tmp\n",
    "            self.best = scouts[0]\n",
    "        #Отбираем лучшие места\n",
    "        best_scouts = scouts[:self.best_scout]\n",
    "        #Отбираем перспективные места\n",
    "        good_scouts = scouts[self.best_scout:self.best_scout + self.good_scout:]\n",
    "        #Посылаем работников в лучшие места\n",
    "        for i in range(best_scouts.shape[0]):\n",
    "            rnd = np.random.rand(self.workers_best, *self.size) * 2 - 1\n",
    "            workers_b = rnd*self.rad + best_scouts[i]\n",
    "        #Посылаем работников в перспективные места\n",
    "        for i in range(good_scouts.shape[0]):\n",
    "            rnd = np.random.rand(self.workers_good, *self.size) * 2 - 1\n",
    "            workers_g = rnd*self.rad + good_scouts[i]\n",
    "        #Отбираем лучшие результаты\n",
    "        results_b = np.array(list(map(self.f, workers_b)))\n",
    "        best_of_the_best = workers_b[np.argmin(results_b)]\n",
    "        best_res = np.min(results_b)\n",
    "        \n",
    "        results_g = np.array(list(map(self.f, workers_g)))\n",
    "        best_of_good = workers_g[np.argmin(results_g)]\n",
    "        good_res = np.min(results_g)\n",
    "        #Обновляем общий лучший результат\n",
    "        if good_res < best_res:\n",
    "            best_res = good_res\n",
    "            best_of_the_best = best_of_good\n",
    "        if best_res <= self.best_loss:\n",
    "            self.best_loss = best_res\n",
    "            self.best = best_of_the_best\n",
    "        return self.best_loss\n",
    "    \n",
    "    def optimize(self, max_steps, min_func=None, closeness=10**-3, patience=10000, early_stopping=False):\n",
    "        losses = []\n",
    "        prev_loss = 0.0\n",
    "        steps_no_change = 0\n",
    "        try:\n",
    "            for _ in range(max_steps):\n",
    "                loss = self.step()\n",
    "                losses.append(loss)\n",
    "                if (loss == prev_loss):\n",
    "                    steps_no_change += 1\n",
    "                else:\n",
    "                    steps_no_change = 0\n",
    "                if early_stopping and steps_no_change >= patience:\n",
    "                    break\n",
    "                if early_stopping and min_func is not None and np.abs(loss - min_func) <= closeness:\n",
    "                    break\n",
    "                prev_loss = loss\n",
    "        except KeyboardInterrupt:\n",
    "            plt.plot(losses)\n",
    "            plt.show()\n",
    "            print(len(losses))\n",
    "            return self.best\n",
    "        plt.plot(losses)\n",
    "        plt.show()\n",
    "        print(len(losses))\n",
    "        return self.best"
   ]
  },
  {
   "cell_type": "markdown",
   "metadata": {},
   "source": [
    "# Задача 1.\n",
    "Задача очень просто поставлена - найти любое простое пятизначное число.\n",
    "Оптимизируемый функционал:\n",
    "$$\n",
    "f(x) = \\begin{cases}\n",
    "0, &\\text{$x$ - простое}\\\\\n",
    "1, &\\text{$x$ - не простое}\n",
    "\\end{cases}\n",
    "$$"
   ]
  },
  {
   "cell_type": "code",
   "execution_count": 62,
   "metadata": {},
   "outputs": [],
   "source": [
    "def func(x):\n",
    "    a = np.rint(x[0])\n",
    "    i = 2\n",
    "    while i * i <= a:\n",
    "        if a % i == 0:\n",
    "            return 1\n",
    "        i += 1\n",
    "    return 0"
   ]
  },
  {
   "cell_type": "code",
   "execution_count": 63,
   "metadata": {},
   "outputs": [],
   "source": [
    "def func_grad(x):\n",
    "    # Функция кусочно постоянная, поэтому в каждой точке производная либо 0, либо не существует\n",
    "    # но мы будем считать, что 0\n",
    "    return 0"
   ]
  },
  {
   "cell_type": "code",
   "execution_count": 64,
   "metadata": {},
   "outputs": [],
   "source": [
    "sgd = GD(func, func_grad, search_min=10000, search_max=99999, sol_size=(1,), learning_rate=1)"
   ]
  },
  {
   "cell_type": "code",
   "execution_count": 65,
   "metadata": {},
   "outputs": [
    {
     "data": {
      "image/png": "[encoded data removed]",
      "text/plain": [
       "<Figure size 432x288 with 1 Axes>"
      ]
     },
     "metadata": {
      "needs_background": "light"
     },
     "output_type": "display_data"
    },
    {
     "name": "stdout",
     "output_type": "stream",
     "text": [
      "100\n",
      "CPU times: user 120 ms, sys: 12.1 ms, total: 132 ms\n",
      "Wall time: 122 ms\n"
     ]
    },
    {
     "data": {
      "text/plain": [
       "array([21705.57193773])"
      ]
     },
     "execution_count": 65,
     "metadata": {},
     "output_type": "execute_result"
    }
   ],
   "source": [
    "%%time\n",
    "sgd.optimize(max_steps=100, min_func=0.0)"
   ]
  },
  {
   "cell_type": "code",
   "execution_count": 45,
   "metadata": {},
   "outputs": [],
   "source": [
    "rs = RandomSearch(func, search_min=10000, search_max=99999, sol_size=(1,))"
   ]
  },
  {
   "cell_type": "code",
   "execution_count": 46,
   "metadata": {},
   "outputs": [
    {
     "data": {
      "image/png": "[encoded data removed]",
      "text/plain": [
       "<Figure size 432x288 with 1 Axes>"
      ]
     },
     "metadata": {
      "needs_background": "light"
     },
     "output_type": "display_data"
    },
    {
     "name": "stdout",
     "output_type": "stream",
     "text": [
      "17\n",
      "CPU times: user 158 ms, sys: 4.29 ms, total: 162 ms\n",
      "Wall time: 160 ms\n"
     ]
    },
    {
     "data": {
      "text/plain": [
       "array([89112.9303519])"
      ]
     },
     "execution_count": 46,
     "metadata": {},
     "output_type": "execute_result"
    }
   ],
   "source": [
    "%%time\n",
    "rs.optimize(max_steps=1000, min_func=0.0)"
   ]
  },
  {
   "cell_type": "code",
   "execution_count": 47,
   "metadata": {},
   "outputs": [],
   "source": [
    "gs = GeneticSearch(func, search_min=10000, search_max=99999, sol_size=(1,),\n",
    "                   population=500, elite=0.6, p_alive=0.05, p_mut=0.05)"
   ]
  },
  {
   "cell_type": "code",
   "execution_count": 49,
   "metadata": {},
   "outputs": [
    {
     "data": {
      "image/png": "[encoded data removed]",
      "text/plain": [
       "<Figure size 432x288 with 1 Axes>"
      ]
     },
     "metadata": {
      "needs_background": "light"
     },
     "output_type": "display_data"
    },
    {
     "name": "stdout",
     "output_type": "stream",
     "text": [
      "1\n",
      "CPU times: user 128 ms, sys: 2.84 ms, total: 130 ms\n",
      "Wall time: 131 ms\n"
     ]
    },
    {
     "data": {
      "text/plain": [
       "array([51612.79193175])"
      ]
     },
     "execution_count": 49,
     "metadata": {},
     "output_type": "execute_result"
    }
   ],
   "source": [
    "%%time\n",
    "gs.optimize(max_steps=10000, min_func=0.0)"
   ]
  },
  {
   "cell_type": "code",
   "execution_count": 50,
   "metadata": {},
   "outputs": [],
   "source": [
    "bf = BirdsFlock(func, search_min=10000, search_max=99999, sol_size=(1,),\n",
    "                birds_count=100, min_speed=1, max_speed=200, w=0.1, a1=0.4, a2=0.5)"
   ]
  },
  {
   "cell_type": "code",
   "execution_count": 51,
   "metadata": {},
   "outputs": [
    {
     "data": {
      "image/png": "[encoded data removed]",
      "text/plain": [
       "<Figure size 432x288 with 1 Axes>"
      ]
     },
     "metadata": {
      "needs_background": "light"
     },
     "output_type": "display_data"
    },
    {
     "name": "stdout",
     "output_type": "stream",
     "text": [
      "1\n",
      "CPU times: user 125 ms, sys: 12.7 ms, total: 138 ms\n",
      "Wall time: 129 ms\n"
     ]
    },
    {
     "data": {
      "text/plain": [
       "array([30558.95206076])"
      ]
     },
     "execution_count": 51,
     "metadata": {},
     "output_type": "execute_result"
    }
   ],
   "source": [
    "%%time\n",
    "bf.optimize(max_steps=10000, min_func=0.0)"
   ]
  },
  {
   "cell_type": "code",
   "execution_count": 52,
   "metadata": {},
   "outputs": [],
   "source": [
    "hive = Hive(func, search_min=10000, search_max=99999, sol_size=(1,),\n",
    "            scout=1000, best_scout=300, good_scout=200, workers_best=300, workers_good=100, rad=10)"
   ]
  },
  {
   "cell_type": "code",
   "execution_count": 205,
   "metadata": {},
   "outputs": [
    {
     "data": {
      "image/png": "[encoded data removed]",
      "text/plain": [
       "<Figure size 432x288 with 1 Axes>"
      ]
     },
     "metadata": {
      "needs_background": "light"
     },
     "output_type": "display_data"
    },
    {
     "name": "stdout",
     "output_type": "stream",
     "text": [
      "219\n",
      "[5.54960763 4.09817398 3.19975913] 57.83163328303997\n",
      "CPU times: user 3.22 s, sys: 7.36 ms, total: 3.23 s\n",
      "Wall time: 3.23 s\n"
     ]
    }
   ],
   "source": [
    "%%time\n",
    "hive.optimize(max_steps=10000, min_func=0.0)"
   ]
  },
  {
   "cell_type": "markdown",
   "metadata": {},
   "source": [
    "# Задача 2."
   ]
  },
  {
   "cell_type": "code",
   "execution_count": 411,
   "metadata": {},
   "outputs": [],
   "source": [
    "def func2(X):\n",
    "    return np.sum(X**2)\n",
    "\n",
    "def func_grad2(X):\n",
    "    return 2*X"
   ]
  },
  {
   "cell_type": "code",
   "execution_count": 412,
   "metadata": {},
   "outputs": [],
   "source": [
    "sgd = GD(func2, func_grad2, search_min=-500, search_max=500, sol_size=(3,), learning_rate=0.01)"
   ]
  },
  {
   "cell_type": "code",
   "execution_count": 413,
   "metadata": {},
   "outputs": [
    {
     "data": {
      "image/png": "[encoded data removed]",
      "text/plain": [
       "<Figure size 432x288 with 1 Axes>"
      ]
     },
     "metadata": {
      "needs_background": "light"
     },
     "output_type": "display_data"
    },
    {
     "name": "stdout",
     "output_type": "stream",
     "text": [
      "475\n",
      "[0.02532712 0.01860936 0.00153984] 0.0009901424859982539\n",
      "CPU times: user 120 ms, sys: 11.1 ms, total: 131 ms\n",
      "Wall time: 122 ms\n"
     ]
    }
   ],
   "source": [
    "%%time\n",
    "X = sgd.optimize(max_steps=1000000, min_func=0.0, early_stopping=True)\n",
    "print(X, func2(X))"
   ]
  },
  {
   "cell_type": "code",
   "execution_count": 324,
   "metadata": {},
   "outputs": [],
   "source": [
    "rs = RandomSearch(func2, search_min=-500, search_max=500, sol_size=(3,))"
   ]
  },
  {
   "cell_type": "code",
   "execution_count": 325,
   "metadata": {},
   "outputs": [
    {
     "data": {
      "image/png": "[encoded data removed]",
      "text/plain": [
       "<Figure size 432x288 with 1 Axes>"
      ]
     },
     "metadata": {
      "needs_background": "light"
     },
     "output_type": "display_data"
    },
    {
     "name": "stdout",
     "output_type": "stream",
     "text": [
      "330769\n",
      "[ 3.67318738 10.57116228 -1.01237193] 126.26667438475774\n",
      "CPU times: user 7.01 s, sys: 483 ms, total: 7.49 s\n",
      "Wall time: 7.09 s\n"
     ]
    }
   ],
   "source": [
    "%%time\n",
    "X = rs.optimize(max_steps=3000000, min_func=0.0)\n",
    "print(X, func2(X))"
   ]
  },
  {
   "cell_type": "code",
   "execution_count": 328,
   "metadata": {},
   "outputs": [],
   "source": [
    "gs = GeneticSearch(func2, search_min=-500, search_max=500, sol_size=(3,),\n",
    "                   population=2000, elite=0.3, p_alive=0.1, p_mut=0.3)"
   ]
  },
  {
   "cell_type": "code",
   "execution_count": 329,
   "metadata": {},
   "outputs": [
    {
     "data": {
      "image/png": "[encoded data removed]",
      "text/plain": [
       "<Figure size 432x288 with 1 Axes>"
      ]
     },
     "metadata": {
      "needs_background": "light"
     },
     "output_type": "display_data"
    },
    {
     "name": "stdout",
     "output_type": "stream",
     "text": [
      "129\n",
      "[0.00899317 0.02994077 0.00494532] 0.0010017828870596591\n",
      "CPU times: user 10.6 s, sys: 55.8 ms, total: 10.6 s\n",
      "Wall time: 10.6 s\n"
     ]
    }
   ],
   "source": [
    "%%time\n",
    "X = gs.optimize(max_steps=5000, min_func=0.0, early_stopping=True, patience=100)\n",
    "print(X, func2(X))"
   ]
  },
  {
   "cell_type": "code",
   "execution_count": 414,
   "metadata": {},
   "outputs": [],
   "source": [
    "bf = BirdsFlock(func2, search_min=-500, search_max=500, sol_size=(3,),\n",
    "                birds_count=500, min_speed=0.00000000001, max_speed=20, w=0.2, a1=0.4, a2=0.4)"
   ]
  },
  {
   "cell_type": "code",
   "execution_count": 415,
   "metadata": {},
   "outputs": [
    {
     "data": {
      "image/png": "[encoded data removed]",
      "text/plain": [
       "<Figure size 432x288 with 1 Axes>"
      ]
     },
     "metadata": {
      "needs_background": "light"
     },
     "output_type": "display_data"
    },
    {
     "name": "stdout",
     "output_type": "stream",
     "text": [
      "27\n",
      "[ 0.01836482 -0.00687567 -0.0210871 ] 0.0008292073181052927\n",
      "CPU times: user 331 ms, sys: 6.33 ms, total: 338 ms\n",
      "Wall time: 334 ms\n"
     ]
    }
   ],
   "source": [
    "%%time\n",
    "X = bf.optimize(max_steps=10000000, min_func=0.0, early_stopping=True, patience=100)\n",
    "print(X, func2(X))"
   ]
  },
  {
   "cell_type": "code",
   "execution_count": 356,
   "metadata": {},
   "outputs": [],
   "source": [
    "hive = Hive(func2, search_min=-500, search_max=500, sol_size=(3,),\n",
    "            scout=100000, best_scout=5, good_scout=1, workers_best=100, workers_good=50, rad=5)"
   ]
  },
  {
   "cell_type": "code",
   "execution_count": 357,
   "metadata": {},
   "outputs": [
    {
     "data": {
      "image/png": "[encoded data removed]",
      "text/plain": [
       "<Figure size 432x288 with 1 Axes>"
      ]
     },
     "metadata": {
      "needs_background": "light"
     },
     "output_type": "display_data"
    },
    {
     "name": "stdout",
     "output_type": "stream",
     "text": [
      "49\n",
      "[ 2.29472211 -1.64007636  0.52206429] 8.228151158256676\n",
      "CPU times: user 25.3 s, sys: 67.8 ms, total: 25.3 s\n",
      "Wall time: 25.4 s\n"
     ]
    }
   ],
   "source": [
    "%%time\n",
    "X = hive.optimize(max_steps=100000, min_func=0.0, early_stopping=True, patience=100)\n",
    "print(X, func2(X))"
   ]
  },
  {
   "cell_type": "markdown",
   "metadata": {},
   "source": [
    "# Задача 3."
   ]
  },
  {
   "cell_type": "code",
   "execution_count": 437,
   "metadata": {},
   "outputs": [],
   "source": [
    "w_true = np.array([1, 2, 3])\n",
    "\n",
    "def lin_func(x, w):\n",
    "    return np.sum(w*x, axis=0)\n",
    "\n",
    "def MSE(w):\n",
    "    x = np.random.rand(10, 3)\n",
    "    pred = lin_func(x, w)\n",
    "    true = lin_func(x, w_true)\n",
    "    return np.mean((pred - true)**2)\n",
    "\n",
    "def MSE_grad(w):\n",
    "    x = np.random.rand(10, 3)\n",
    "    a = np.sum(w * x, axis=0)\n",
    "    a_true = np.sum(w_true * x, axis=0)\n",
    "    a = a - a_true\n",
    "    return np.mean(a * x, axis=0)\n",
    "    "
   ]
  },
  {
   "cell_type": "code",
   "execution_count": 438,
   "metadata": {},
   "outputs": [],
   "source": [
    "sgd = GD(MSE, MSE_grad, search_min=-100, search_max=100, sol_size=(3,), learning_rate=0.01)"
   ]
  },
  {
   "cell_type": "code",
   "execution_count": 439,
   "metadata": {},
   "outputs": [
    {
     "data": {
      "image/png": "[encoded data removed]",
      "text/plain": [
       "<Figure size 432x288 with 1 Axes>"
      ]
     },
     "metadata": {
      "needs_background": "light"
     },
     "output_type": "display_data"
    },
    {
     "name": "stdout",
     "output_type": "stream",
     "text": [
      "352\n",
      "[0.99126329 1.991458   2.99473997] 0.0009370985229610975\n",
      "CPU times: user 152 ms, sys: 10.3 ms, total: 162 ms\n",
      "Wall time: 156 ms\n"
     ]
    }
   ],
   "source": [
    "%%time\n",
    "X = sgd.optimize(max_steps=1000000, min_func=0.0, early_stopping=True)\n",
    "print(X, MSE(X))"
   ]
  },
  {
   "cell_type": "code",
   "execution_count": 440,
   "metadata": {},
   "outputs": [],
   "source": [
    "rs = RandomSearch(MSE, search_min=-100, search_max=100, sol_size=(3,))"
   ]
  },
  {
   "cell_type": "code",
   "execution_count": 361,
   "metadata": {},
   "outputs": [
    {
     "data": {
      "image/png": "[encoded data removed]",
      "text/plain": [
       "<Figure size 432x288 with 1 Axes>"
      ]
     },
     "metadata": {
      "needs_background": "light"
     },
     "output_type": "display_data"
    },
    {
     "name": "stdout",
     "output_type": "stream",
     "text": [
      "758999\n",
      "[0.21552167 1.48844552 5.89866117] 78.07806595780144\n",
      "CPU times: user 1min 4s, sys: 500 ms, total: 1min 5s\n",
      "Wall time: 1min 4s\n"
     ]
    }
   ],
   "source": [
    "%%time\n",
    "X = rs.optimize(max_steps=3000000, min_func=0.0)\n",
    "print(X, MSE(X))"
   ]
  },
  {
   "cell_type": "code",
   "execution_count": 441,
   "metadata": {},
   "outputs": [],
   "source": [
    "gs = GeneticSearch(MSE, search_min=-100, search_max=100, sol_size=(3,),\n",
    "                   population=1000, elite=0.3, p_alive=0.1, p_mut=0.3)"
   ]
  },
  {
   "cell_type": "code",
   "execution_count": 442,
   "metadata": {},
   "outputs": [
    {
     "data": {
      "image/png": "[encoded data removed]",
      "text/plain": [
       "<Figure size 432x288 with 1 Axes>"
      ]
     },
     "metadata": {
      "needs_background": "light"
     },
     "output_type": "display_data"
    },
    {
     "name": "stdout",
     "output_type": "stream",
     "text": [
      "51\n",
      "[1.36157431 2.09367713 2.98494344] 1.094836093375952\n",
      "CPU times: user 3.45 s, sys: 38 ms, total: 3.49 s\n",
      "Wall time: 3.47 s\n"
     ]
    }
   ],
   "source": [
    "%%time\n",
    "X = gs.optimize(max_steps=5000, min_func=0.0, early_stopping=True, patience=100)\n",
    "print(X, MSE(X))"
   ]
  },
  {
   "cell_type": "code",
   "execution_count": 443,
   "metadata": {},
   "outputs": [],
   "source": [
    "bf = BirdsFlock(MSE, search_min=-100, search_max=100, sol_size=(3,),\n",
    "                birds_count=500, min_speed=0.00000000001, max_speed=20, w=0.2, a1=0.4, a2=0.4)"
   ]
  },
  {
   "cell_type": "code",
   "execution_count": 444,
   "metadata": {},
   "outputs": [
    {
     "data": {
      "image/png": "[encoded data removed]",
      "text/plain": [
       "<Figure size 432x288 with 1 Axes>"
      ]
     },
     "metadata": {
      "needs_background": "light"
     },
     "output_type": "display_data"
    },
    {
     "name": "stdout",
     "output_type": "stream",
     "text": [
      "15\n",
      "[1.00823009 1.99824606 3.00185666] 0.000711877818782802\n",
      "CPU times: user 585 ms, sys: 15 ms, total: 600 ms\n",
      "Wall time: 590 ms\n"
     ]
    }
   ],
   "source": [
    "%%time\n",
    "X = bf.optimize(max_steps=10000000, min_func=0.0, early_stopping=True, patience=100)\n",
    "print(X, MSE(X))"
   ]
  },
  {
   "cell_type": "code",
   "execution_count": 449,
   "metadata": {},
   "outputs": [],
   "source": [
    "hive = Hive(MSE, search_min=-100, search_max=100, sol_size=(3,),\n",
    "            scout=100000, best_scout=5, good_scout=1, workers_best=100, workers_good=50, rad=3)"
   ]
  },
  {
   "cell_type": "code",
   "execution_count": 450,
   "metadata": {},
   "outputs": [
    {
     "data": {
      "image/png": "[encoded data removed]",
      "text/plain": [
       "<Figure size 432x288 with 1 Axes>"
      ]
     },
     "metadata": {
      "needs_background": "light"
     },
     "output_type": "display_data"
    },
    {
     "name": "stdout",
     "output_type": "stream",
     "text": [
      "23\n",
      "[1.22762854 2.23585521 3.00168153] 1.3664414593785477\n",
      "CPU times: user 1min 4s, sys: 429 ms, total: 1min 5s\n",
      "Wall time: 1min 5s\n"
     ]
    }
   ],
   "source": [
    "%%time\n",
    "X = hive.optimize(max_steps=100000, min_func=0.0, early_stopping=False, patience=1000)\n",
    "print(X, MSE(X))"
   ]
  },
  {
   "cell_type": "markdown",
   "metadata": {},
   "source": [
    "# Задача 4."
   ]
  },
  {
   "cell_type": "code",
   "execution_count": 510,
   "metadata": {},
   "outputs": [],
   "source": [
    "def func2(X):\n",
    "    return np.sum((X ** 2) * np.sin(X))\n",
    "\n",
    "def func_grad(X):\n",
    "    return 2*X * np.sin(X) + (X**2) * np.cos(X)"
   ]
  },
  {
   "cell_type": "code",
   "execution_count": 511,
   "metadata": {},
   "outputs": [],
   "source": [
    "sgd = GD(func2, func_grad, search_min=-200, search_max=200, sol_size=(3,), learning_rate=0.001)"
   ]
  },
  {
   "cell_type": "code",
   "execution_count": 512,
   "metadata": {},
   "outputs": [
    {
     "data": {
      "image/png": "[encoded data removed]",
      "text/plain": [
       "<Figure size 432x288 with 1 Axes>"
      ]
     },
     "metadata": {
      "needs_background": "light"
     },
     "output_type": "display_data"
    },
    {
     "name": "stdout",
     "output_type": "stream",
     "text": [
      "4522062\n",
      "[63.45677231 63.45677231 36.18353309] 3404.314740794681\n",
      "CPU times: user 1min 1s, sys: 214 ms, total: 1min 2s\n",
      "Wall time: 1min 2s\n"
     ]
    }
   ],
   "source": [
    "%%time\n",
    "X = sgd.optimize(max_steps=6000000, early_stopping=True)\n",
    "print(X, func2(X))"
   ]
  },
  {
   "cell_type": "code",
   "execution_count": 523,
   "metadata": {},
   "outputs": [],
   "source": [
    "rs = RandomSearch(func2, search_min=-200, search_max=200, sol_size=(3,))"
   ]
  },
  {
   "cell_type": "code",
   "execution_count": 524,
   "metadata": {},
   "outputs": [
    {
     "data": {
      "image/png": "[encoded data removed]",
      "text/plain": [
       "<Figure size 432x288 with 1 Axes>"
      ]
     },
     "metadata": {
      "needs_background": "light"
     },
     "output_type": "display_data"
    },
    {
     "name": "stdout",
     "output_type": "stream",
     "text": [
      "2608993\n",
      "[ 193.16682207  199.22944544 -190.19555712] -111495.7406968877\n",
      "CPU times: user 1min 3s, sys: 1.52 s, total: 1min 5s\n",
      "Wall time: 1min 3s\n"
     ]
    }
   ],
   "source": [
    "%%time\n",
    "X = rs.optimize(max_steps=3000000, min_func=0.0)\n",
    "print(X, func2(X))"
   ]
  },
  {
   "cell_type": "code",
   "execution_count": 538,
   "metadata": {},
   "outputs": [],
   "source": [
    "gs = GeneticSearch(func2, search_min=-200, search_max=200, sol_size=(3,),\n",
    "                   population=2000, elite=0.3, p_alive=0.1, p_mut=0.3)"
   ]
  },
  {
   "cell_type": "code",
   "execution_count": 539,
   "metadata": {},
   "outputs": [
    {
     "name": "stderr",
     "output_type": "stream",
     "text": [
      "/Users/azelentsov/PycharmProjects/stohastic/venv/lib/python3.6/site-packages/ipykernel_launcher.py:2: RuntimeWarning: overflow encountered in square\n",
      "  \n"
     ]
    },
    {
     "data": {
      "image/png": "[encoded data removed]",
      "text/plain": [
       "<Figure size 432x288 with 1 Axes>"
      ]
     },
     "metadata": {
      "needs_background": "light"
     },
     "output_type": "display_data"
    },
    {
     "name": "stdout",
     "output_type": "stream",
     "text": [
      "696\n",
      "[2.68495888e+178 7.50726561e+180 1.69704445e+177] -inf\n"
     ]
    }
   ],
   "source": [
    "X = gs.optimize(max_steps=5000, min_func=0.0, early_stopping=False, patience=100)\n",
    "print(X, func2(X))"
   ]
  },
  {
   "cell_type": "code",
   "execution_count": 569,
   "metadata": {},
   "outputs": [],
   "source": [
    "bf = BirdsFlock(func2, search_min=-200, search_max=200, sol_size=(3,),\n",
    "                birds_count=500, min_speed=0.00000000001, max_speed=20, w=0.2, a1=0.4, a2=0.4)"
   ]
  },
  {
   "cell_type": "code",
   "execution_count": 570,
   "metadata": {},
   "outputs": [
    {
     "data": {
      "image/png": "[encoded data removed]",
      "text/plain": [
       "<Figure size 432x288 with 1 Axes>"
      ]
     },
     "metadata": {
      "needs_background": "light"
     },
     "output_type": "display_data"
    },
    {
     "name": "stdout",
     "output_type": "stream",
     "text": [
      "6287\n",
      "[ 199.10511291 -167.21943407  181.28526906] -44680.34710020496\n",
      "CPU times: user 1min, sys: 88.1 ms, total: 1min 1s\n",
      "Wall time: 1min 1s\n"
     ]
    }
   ],
   "source": [
    "%%time\n",
    "X = bf.optimize(max_steps=10000000, min_func=0.0, early_stopping=False, patience=100)\n",
    "print(X, func2(X))"
   ]
  },
  {
   "cell_type": "code",
   "execution_count": 566,
   "metadata": {},
   "outputs": [],
   "source": [
    "hive = Hive(func2, search_min=-200, search_max=200, sol_size=(3,),\n",
    "            scout=100000, best_scout=5, good_scout=1, workers_best=100, workers_good=50, rad=5)"
   ]
  },
  {
   "cell_type": "code",
   "execution_count": 567,
   "metadata": {},
   "outputs": [
    {
     "data": {
      "image/png": "[encoded data removed]",
      "text/plain": [
       "<Figure size 432x288 with 1 Axes>"
      ]
     },
     "metadata": {
      "needs_background": "light"
     },
     "output_type": "display_data"
    },
    {
     "name": "stdout",
     "output_type": "stream",
     "text": [
      "94\n",
      "[192.78773349 199.46746707 199.4839318 ] -113502.55809352038\n",
      "CPU times: user 1min, sys: 34.4 ms, total: 1min\n",
      "Wall time: 1min\n"
     ]
    }
   ],
   "source": [
    "%%time\n",
    "X = hive.optimize(max_steps=100000, min_func=0.0, early_stopping=False, patience=1000)\n",
    "print(X, func2(X))"
   ]
  },
  {
   "cell_type": "markdown",
   "metadata": {},
   "source": [
    "# Задача 5"
   ]
  },
  {
   "cell_type": "code",
   "execution_count": 600,
   "metadata": {},
   "outputs": [],
   "source": [
    "Y_true = np.random.randint(2, size=(10, 10))\n",
    "kernel = np.ones((3, 3))\n",
    "\n",
    "from scipy.signal import convolve2d\n",
    "def make_step(X):\n",
    "    nbrs_cnt = (convolve2d(X, kernel, mode='same', boundary='fill', fillvalue=0.0) - X).astype('int')\n",
    "    return (nbrs_cnt == 3) | (X.astype('int') & (nbrs_cnt == 2))\n",
    "\n",
    "def MAE(X, Y):\n",
    "    return np.mean(np.abs(X - Y))\n",
    "\n",
    "def func(X):\n",
    "    A = np.rint(X).reshape(10, 10)\n",
    "    A[np.where(A > 1.0)] = 1.0\n",
    "    A[np.where(A < 0.0)] = 0.0\n",
    "    return MAE(make_step(A), Y_true)"
   ]
  },
  {
   "cell_type": "code",
   "execution_count": 601,
   "metadata": {},
   "outputs": [],
   "source": [
    "rs = RandomSearch(func, search_min=0, search_max=1, sol_size=(100,))"
   ]
  },
  {
   "cell_type": "code",
   "execution_count": 596,
   "metadata": {},
   "outputs": [
    {
     "data": {
      "image/png": "[encoded data removed]",
      "text/plain": [
       "<Figure size 432x288 with 1 Axes>"
      ]
     },
     "metadata": {
      "needs_background": "light"
     },
     "output_type": "display_data"
    },
    {
     "name": "stdout",
     "output_type": "stream",
     "text": [
      "504841\n",
      "[[4.17467274e-01 7.51466993e-02 4.92597983e-01 4.35502985e-01\n",
      "  5.95277387e-01 4.38632953e-01 5.94458932e-01 4.58382277e-01\n",
      "  7.33053009e-01 9.60380586e-01]\n",
      " [1.55603996e-01 8.52067722e-01 2.34436386e-01 2.90900746e-02\n",
      "  5.48031171e-01 8.33637849e-01 4.22493169e-01 5.65698015e-01\n",
      "  1.12243182e-01 2.74257484e-01]\n",
      " [7.93807368e-01 6.43436526e-01 7.12919256e-01 5.76987358e-01\n",
      "  9.96350639e-02 7.74243015e-02 1.69987486e-01 4.35605369e-01\n",
      "  5.44834603e-01 4.49788257e-01]\n",
      " [1.89724935e-01 3.62996767e-01 4.84943761e-01 4.92537826e-01\n",
      "  6.50774928e-01 2.91123112e-01 6.35007194e-01 1.19396341e-01\n",
      "  1.49462869e-01 9.29545086e-01]\n",
      " [4.83545011e-01 8.28939884e-02 6.25681646e-01 5.72740795e-01\n",
      "  3.74883147e-01 1.32287928e-01 3.92132779e-01 7.48532001e-01\n",
      "  9.12248863e-01 7.03862567e-01]\n",
      " [4.98469238e-01 8.93177422e-01 6.59477782e-01 3.98566145e-01\n",
      "  5.33639411e-01 6.07576036e-01 1.25157766e-01 5.31424266e-01\n",
      "  2.02383917e-01 5.05707868e-01]\n",
      " [6.92851382e-02 3.43181558e-01 2.68769617e-01 5.24137835e-01\n",
      "  5.00975042e-01 4.40259629e-01 4.36294573e-01 1.19978476e-01\n",
      "  3.92358659e-01 4.10772995e-01]\n",
      " [9.83708312e-01 4.52200677e-01 1.93087035e-01 6.93833029e-01\n",
      "  9.93358781e-01 2.77590862e-01 2.97948829e-01 7.82704460e-01\n",
      "  8.47032280e-01 6.34200056e-01]\n",
      " [7.99448355e-01 4.98142186e-01 6.67047463e-01 6.02356209e-02\n",
      "  5.67824380e-02 3.56740716e-01 7.62585176e-02 5.48848341e-01\n",
      "  2.15513261e-01 5.79200643e-05]\n",
      " [1.29338955e-01 2.62484750e-01 4.68427018e-01 7.83682514e-01\n",
      "  8.14675505e-01 3.05030762e-01 8.53839932e-01 5.38831745e-01\n",
      "  4.32596355e-01 6.19011515e-01]] 0.3\n",
      "CPU times: user 1min 4s, sys: 156 ms, total: 1min 4s\n",
      "Wall time: 1min 4s\n"
     ]
    }
   ],
   "source": [
    "%%time\n",
    "X = rs.optimize(max_steps=3000000, min_func=0.0)\n",
    "print(X, func(X))"
   ]
  },
  {
   "cell_type": "code",
   "execution_count": 610,
   "metadata": {},
   "outputs": [],
   "source": [
    "gs = GeneticSearch(func, search_min=-0, search_max=1, sol_size=(100,),\n",
    "                   population=600, elite=0.4, p_alive=0.1, p_mut=0.3)"
   ]
  },
  {
   "cell_type": "code",
   "execution_count": 611,
   "metadata": {},
   "outputs": [
    {
     "data": {
      "image/png": "[encoded data removed]",
      "text/plain": [
       "<Figure size 432x288 with 1 Axes>"
      ]
     },
     "metadata": {
      "needs_background": "light"
     },
     "output_type": "display_data"
    },
    {
     "name": "stdout",
     "output_type": "stream",
     "text": [
      "1247\n",
      "[8.71220983e-01 9.49472064e-01 8.60889015e-01 5.68424231e-01\n",
      " 9.12807094e-01 3.51894243e-01 1.36987660e-01 3.52751984e-01\n",
      " 3.51884007e-01 2.07776804e+00 7.49324300e-01 2.95863798e-01\n",
      " 3.03318403e-01 6.79813024e-01 1.01562341e-01 8.42474630e-01\n",
      " 1.79128167e-01 3.93365075e-01 6.39717468e-01 1.06209596e-01\n",
      " 5.72671685e-01 1.65767952e-01 8.91116743e-01 6.94777857e-01\n",
      " 8.53886737e-01 3.86875213e-01 7.99687713e-01 8.64983604e-02\n",
      " 8.56697997e-01 6.81642427e-01 4.27320922e-01 1.19405193e-03\n",
      " 2.99020151e-01 9.71310740e+00 3.78810435e-01 1.77014295e-01\n",
      " 7.29843469e-01 2.60632867e-01 2.42473677e-01 9.39861967e-01\n",
      " 5.22826001e-01 5.35104982e-01 9.23677071e-01 1.47477230e-01\n",
      " 5.96095077e-01 8.32145734e-01 8.90232621e-01 2.89011762e-01\n",
      " 9.95104838e-01 1.75060197e-01 6.39998045e+00 3.84936285e-01\n",
      " 4.11266560e-01 7.09038895e-01 1.10671528e-01 3.58354071e-01\n",
      " 8.89993163e-02 5.04583639e-01 7.41308595e-01 2.16245754e-04\n",
      " 2.36279559e-01 9.00628671e-01 2.26010723e-01 9.80325419e-01\n",
      " 6.24115087e-01 2.94251335e+00 7.39353010e-01 8.19627944e-02\n",
      " 7.70074384e-02 8.45306279e-01 6.48200122e-01 7.86756215e-01\n",
      " 4.78232631e-01 7.60336047e-01 5.75913359e-01 3.65613582e-01\n",
      " 3.61310687e-01 6.85485017e-02 1.18712160e-01 8.00840805e-01\n",
      " 1.00713467e-01 1.18662861e-01 3.44336198e-01 5.19443587e-01\n",
      " 8.09133018e-01 1.16788125e-01 1.50525344e-01 5.18934429e+00\n",
      " 1.38035002e+00 5.76720959e-01 4.34903588e-01 2.77607817e-01\n",
      " 8.00890726e-02 2.12808848e-01 4.28920988e-01 9.54913478e-01\n",
      " 7.25012505e-01 3.84991660e-01 7.51592017e-01 5.79768764e-01] 0.14\n",
      "CPU times: user 1min 1s, sys: 307 ms, total: 1min 1s\n",
      "Wall time: 1min 1s\n"
     ]
    }
   ],
   "source": [
    "%%time\n",
    "X = gs.optimize(max_steps=5000, min_func=0.0, early_stopping=False, patience=100)\n",
    "print(X, func(X))"
   ]
  },
  {
   "cell_type": "code",
   "execution_count": 625,
   "metadata": {},
   "outputs": [],
   "source": [
    "bf = BirdsFlock(func, search_min=0, search_max=1, sol_size=(100,),\n",
    "                birds_count=500, min_speed=0.00000000001, max_speed=1, w=0.2, a1=0.4, a2=0.4)"
   ]
  },
  {
   "cell_type": "code",
   "execution_count": 626,
   "metadata": {},
   "outputs": [
    {
     "data": {
      "image/png": "[encoded data removed]",
      "text/plain": [
       "<Figure size 432x288 with 1 Axes>"
      ]
     },
     "metadata": {
      "needs_background": "light"
     },
     "output_type": "display_data"
    },
    {
     "name": "stdout",
     "output_type": "stream",
     "text": [
      "1354\n",
      "[0.62242658 0.61719918 0.47649102 0.5577756  0.30146588 0.50896778\n",
      " 0.31441324 0.17871425 0.43900724 0.44207016 0.29320979 0.66880503\n",
      " 0.38873732 0.14635257 0.46915135 0.77612451 0.45453886 0.41603651\n",
      " 0.56655688 0.85869528 0.88474132 0.33481305 0.44673601 0.44905601\n",
      " 0.62752087 0.59408156 0.33111909 0.31513584 0.56596191 0.40030464\n",
      " 0.32404823 0.37365292 0.07618157 0.69506562 0.21576333 0.81957559\n",
      " 0.27905824 0.37190929 0.38045504 0.69634189 0.62022646 0.63072797\n",
      " 0.61281875 0.31780173 0.23916675 0.47222734 0.21035038 0.52743095\n",
      " 0.29217497 0.54158246 0.44149713 0.56106271 0.62364206 0.67125195\n",
      " 0.62619184 0.59975876 0.4051565  0.70702134 0.80233125 0.58155187\n",
      " 0.48767385 0.27109152 0.40470346 0.2650238  0.61789638 0.67564804\n",
      " 0.36672789 0.49388983 0.5898338  0.73539645 0.4255334  0.27370447\n",
      " 0.63104647 0.3099737  0.7131268  0.66116357 0.30210298 0.33884535\n",
      " 0.53389609 0.5681819  0.45480204 0.69716495 0.62343283 0.61672298\n",
      " 0.44703966 0.69300777 0.42432765 0.28009587 0.67902606 0.50085405\n",
      " 0.57935115 0.35443421 0.42915464 0.63557346 0.51641099 0.52555064\n",
      " 0.55816955 0.3499922  0.48217606 0.61774363] 0.31\n",
      "CPU times: user 1min 3s, sys: 211 ms, total: 1min 3s\n",
      "Wall time: 1min 3s\n"
     ]
    }
   ],
   "source": [
    "%%time\n",
    "X = bf.optimize(max_steps=10000000, min_func=0.0, early_stopping=False, patience=100)\n",
    "print(X, func(X))"
   ]
  },
  {
   "cell_type": "code",
   "execution_count": 641,
   "metadata": {},
   "outputs": [],
   "source": [
    "hive = Hive(func, search_min=0, search_max=1, sol_size=(100,),\n",
    "            scout=100000, best_scout=10, good_scout=5, workers_best=10, workers_good=5, rad=0.1)"
   ]
  },
  {
   "cell_type": "code",
   "execution_count": 642,
   "metadata": {},
   "outputs": [
    {
     "data": {
      "image/png": "[encoded data removed]",
      "text/plain": [
       "<Figure size 432x288 with 1 Axes>"
      ]
     },
     "metadata": {
      "needs_background": "light"
     },
     "output_type": "display_data"
    },
    {
     "name": "stdout",
     "output_type": "stream",
     "text": [
      "14\n",
      "[0.96419244 0.51509555 0.82637493 0.72721859 0.54994386 0.09375155\n",
      " 0.35917068 0.01411073 0.39640922 0.08163264 0.01832506 0.90962325\n",
      " 0.31403919 0.91281091 0.23741917 0.50288532 0.32930272 0.0965601\n",
      " 0.75554753 0.955071   0.89165416 0.15982296 0.6344477  0.1166836\n",
      " 0.92578403 0.71135475 0.13056804 0.02941809 0.73614934 0.32576808\n",
      " 0.10230733 0.31546791 0.16576936 0.2654346  0.72435216 0.95914114\n",
      " 0.87114382 0.00728465 0.60490051 0.04865881 0.51798483 0.52226178\n",
      " 0.04883709 0.86277064 0.77226937 0.15052257 0.00695539 0.23468106\n",
      " 0.88378444 0.45752414 0.55148552 0.35876588 0.17578714 0.94864583\n",
      " 0.36169421 0.80009641 0.77706699 0.43781549 0.70713602 0.00651392\n",
      " 0.36011625 0.48844251 0.9950524  0.88069268 0.74353636 0.34180619\n",
      " 0.74784697 0.41576668 0.86139552 0.23949051 0.40628775 0.15648119\n",
      " 0.89546722 0.91388483 0.70322779 0.38719422 0.97254585 0.19620033\n",
      " 0.05437212 0.89423301 0.48780498 0.17766135 0.19424521 0.12438206\n",
      " 0.92977486 0.57754123 0.43457776 0.20895629 0.04878397 0.01978687\n",
      " 0.09734798 0.42423661 0.38996037 0.7081382  0.01828758 0.52637783\n",
      " 0.95651035 0.61279162 0.38845051 0.128738  ] 0.28\n",
      "CPU times: user 59.5 s, sys: 535 ms, total: 1min\n",
      "Wall time: 59.8 s\n"
     ]
    }
   ],
   "source": [
    "%%time\n",
    "X = hive.optimize(max_steps=100000, min_func=0.0, early_stopping=False, patience=1000)\n",
    "print(X, func(X))"
   ]
  }
 ],
 "metadata": {
  "kernelspec": {
   "display_name": "Python 3",
   "language": "python",
   "name": "python3"
  },
  "language_info": {
   "codemirror_mode": {
    "name": "ipython",
    "version": 3
   },
   "file_extension": ".py",
   "mimetype": "text/x-python",
   "name": "python",
   "nbconvert_exporter": "python",
   "pygments_lexer": "ipython3",
   "version": "3.6.8"
  }
 },
 "nbformat": 4,
 "nbformat_minor": 4
}
